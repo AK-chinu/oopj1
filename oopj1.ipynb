{
 "cells": [
  {
   "cell_type": "markdown",
   "id": "5c980406-9293-4d7f-ab40-77b4b3e28862",
   "metadata": {},
   "source": [
    "## Q1. Explain Class and Object with respect to Object-Oriented Programming. Give a suitable example.  \n"
   ]
  },
  {
   "cell_type": "markdown",
   "id": "c192d963-57e4-4b5c-889f-1fa21695a69b",
   "metadata": {},
   "source": [
    "ans:-Classes are user-defined data types that act as the blueprint for individual objects, attributes and methods.\n",
    "\n",
    "Objects are instances of a class created with specifically defined data. Objects can correspond to real-world objects or an abstract entity. When class is defined initially, the description is the only object that is defined"
   ]
  },
  {
   "cell_type": "code",
   "execution_count": 29,
   "id": "0e35e1b0-27b6-448f-9b2b-94caa5fcddf2",
   "metadata": {},
   "outputs": [],
   "source": [
    "class clac:\n",
    "    \n",
    "    def __init__(self,x,y):\n",
    "        self.L=x\n",
    "        self.B=y\n",
    "        \n",
    "    def rect(self):\n",
    "        return self.L* self.B\n",
    "        "
   ]
  },
  {
   "cell_type": "code",
   "execution_count": 30,
   "id": "1e53acaa-a622-4480-90bf-e3c3f6534185",
   "metadata": {},
   "outputs": [],
   "source": [
    "rectangle=clac(12,5)"
   ]
  },
  {
   "cell_type": "code",
   "execution_count": 32,
   "id": "7e0c950f-e14d-44e6-b9c3-335e92f139be",
   "metadata": {},
   "outputs": [
    {
     "data": {
      "text/plain": [
       "60"
      ]
     },
     "execution_count": 32,
     "metadata": {},
     "output_type": "execute_result"
    }
   ],
   "source": [
    "rectangle.rect()"
   ]
  },
  {
   "cell_type": "markdown",
   "id": "2c4b6929-174c-4282-a6e5-14dd651ccf5d",
   "metadata": {},
   "source": [
    "## Q2. Name the four pillars of OOPs."
   ]
  },
  {
   "cell_type": "markdown",
   "id": "45f4409a-8d06-4d4f-8861-8426d827ed18",
   "metadata": {},
   "source": [
    "ans:- These four pillars are Inheritance, Polymorphism, Encapsulation and Abstraction."
   ]
  },
  {
   "cell_type": "markdown",
   "id": "95768a03-2df3-4f0f-9686-98307943cbff",
   "metadata": {},
   "source": [
    "## Q3. Explain why the __init__() function is used. Give a suitable example"
   ]
  },
  {
   "cell_type": "markdown",
   "id": "e9602108-be22-468e-9377-768e79871b53",
   "metadata": {},
   "source": [
    "Ans:- The __init__ function is called every time an object is created from a class. The __init__ method lets the class initialize the object's attributes and serves no other purpose. It is only used within classes."
   ]
  },
  {
   "cell_type": "code",
   "execution_count": 33,
   "id": "3be96307-2ebf-46b4-a1ce-7d00ad68a09e",
   "metadata": {},
   "outputs": [
    {
     "name": "stdout",
     "output_type": "stream",
     "text": [
      "I am earth\n",
      "I am the 3 planet in the solar system\n"
     ]
    }
   ],
   "source": [
    "class planet:  \n",
    "    def __init__ (self, name, number):  \n",
    "        self. name = name  \n",
    "        self. number = number  \n",
    "    def function (self):  \n",
    "        print (\"I am\", self. name)  \n",
    "        print (\"I am the\", self. number, \"planet in the solar system\")  \n",
    "          \n",
    "earth = planet ('earth', 3)  \n",
    "earth. function ()  "
   ]
  },
  {
   "cell_type": "markdown",
   "id": "d4d9f4ec-2738-4740-b2aa-af4e0f419ed5",
   "metadata": {},
   "source": [
    "## Q4. Why self is used in OOPs? \n"
   ]
  },
  {
   "cell_type": "markdown",
   "id": "f7657545-7e61-4923-9bee-8c67e39ac7c8",
   "metadata": {},
   "source": [
    "Ans:-The self variable is used to represent the instance of the class which is often used in object-oriented programming. It works as a reference to the object. Python uses the self parameter to refer to instance attributes and methods of the class"
   ]
  },
  {
   "cell_type": "markdown",
   "id": "a049011a-0339-4b5b-a7a1-8b6c48c11943",
   "metadata": {},
   "source": [
    "## Q5. What is inheritance? Give an example for each type of inheritance. \n"
   ]
  },
  {
   "cell_type": "markdown",
   "id": "ebfe4baa-615d-409c-b775-4f9ce3dab25a",
   "metadata": {},
   "source": [
    "Ans:-Inheritance is a mechanism of acquiring the features and behaviors of a class by another class. The class whose members are inherited is called the base class, and the class that inherits those members is called the derived class. Inheritance implements the IS-A relationship."
   ]
  },
  {
   "cell_type": "markdown",
   "id": "3f267178-75a0-46fa-98e5-f89c6cde637f",
   "metadata": {},
   "source": [
    "Single inheritance\n",
    "\n",
    "Multi-level inheritance\n",
    "\n",
    "Multiple inheritance\n",
    "\n",
    "Multipath inheritance\n",
    "\n",
    "Hierarchical Inheritance\n",
    "\n",
    "Hybrid Inheritance"
   ]
  },
  {
   "cell_type": "code",
   "execution_count": null,
   "id": "b89a4257-80e4-4b78-bb64-53a01771ed3f",
   "metadata": {},
   "outputs": [],
   "source": []
  }
 ],
 "metadata": {
  "kernelspec": {
   "display_name": "Python 3 (ipykernel)",
   "language": "python",
   "name": "python3"
  },
  "language_info": {
   "codemirror_mode": {
    "name": "ipython",
    "version": 3
   },
   "file_extension": ".py",
   "mimetype": "text/x-python",
   "name": "python",
   "nbconvert_exporter": "python",
   "pygments_lexer": "ipython3",
   "version": "3.10.8"
  }
 },
 "nbformat": 4,
 "nbformat_minor": 5
}
